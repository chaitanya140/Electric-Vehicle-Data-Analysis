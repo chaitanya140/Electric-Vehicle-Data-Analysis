{
 "cells": [
  {
   "cell_type": "code",
   "execution_count": 1,
   "id": "f7ba5783",
   "metadata": {},
   "outputs": [],
   "source": [
    "#Import the Libraries\n",
    "import pandas as pd\n",
    "import matplotlib.pyplot as plt\n",
    "import seaborn as sns\n",
    "import numpy as np"
   ]
  },
  {
   "cell_type": "code",
   "execution_count": 2,
   "id": "036d15c4",
   "metadata": {},
   "outputs": [
    {
     "data": {
      "text/html": [
       "<div>\n",
       "<style scoped>\n",
       "    .dataframe tbody tr th:only-of-type {\n",
       "        vertical-align: middle;\n",
       "    }\n",
       "\n",
       "    .dataframe tbody tr th {\n",
       "        vertical-align: top;\n",
       "    }\n",
       "\n",
       "    .dataframe thead th {\n",
       "        text-align: right;\n",
       "    }\n",
       "</style>\n",
       "<table border=\"1\" class=\"dataframe\">\n",
       "  <thead>\n",
       "    <tr style=\"text-align: right;\">\n",
       "      <th></th>\n",
       "      <th>Car full name</th>\n",
       "      <th>Make</th>\n",
       "      <th>Model</th>\n",
       "      <th>Minimal price (gross) [PLN]</th>\n",
       "      <th>Engine power [KM]</th>\n",
       "      <th>Maximum torque [Nm]</th>\n",
       "      <th>Type of brakes</th>\n",
       "      <th>Drive type</th>\n",
       "      <th>Battery capacity [kWh]</th>\n",
       "      <th>Range (WLTP) [km]</th>\n",
       "      <th>...</th>\n",
       "      <th>Permissable gross weight [kg]</th>\n",
       "      <th>Maximum load capacity [kg]</th>\n",
       "      <th>Number of seats</th>\n",
       "      <th>Number of doors</th>\n",
       "      <th>Tire size [in]</th>\n",
       "      <th>Maximum speed [kph]</th>\n",
       "      <th>Boot capacity (VDA) [l]</th>\n",
       "      <th>Acceleration 0-100 kph [s]</th>\n",
       "      <th>Maximum DC charging power [kW]</th>\n",
       "      <th>mean - Energy consumption [kWh/100 km]</th>\n",
       "    </tr>\n",
       "  </thead>\n",
       "  <tbody>\n",
       "    <tr>\n",
       "      <th>0</th>\n",
       "      <td>Audi e-tron 55 quattro</td>\n",
       "      <td>Audi</td>\n",
       "      <td>e-tron 55 quattro</td>\n",
       "      <td>345700</td>\n",
       "      <td>360</td>\n",
       "      <td>664</td>\n",
       "      <td>disc (front + rear)</td>\n",
       "      <td>4WD</td>\n",
       "      <td>95.0</td>\n",
       "      <td>438</td>\n",
       "      <td>...</td>\n",
       "      <td>3130.0</td>\n",
       "      <td>640.0</td>\n",
       "      <td>5</td>\n",
       "      <td>5</td>\n",
       "      <td>19</td>\n",
       "      <td>200</td>\n",
       "      <td>660.0</td>\n",
       "      <td>5.7</td>\n",
       "      <td>150</td>\n",
       "      <td>24.45</td>\n",
       "    </tr>\n",
       "    <tr>\n",
       "      <th>1</th>\n",
       "      <td>Audi e-tron 50 quattro</td>\n",
       "      <td>Audi</td>\n",
       "      <td>e-tron 50 quattro</td>\n",
       "      <td>308400</td>\n",
       "      <td>313</td>\n",
       "      <td>540</td>\n",
       "      <td>disc (front + rear)</td>\n",
       "      <td>4WD</td>\n",
       "      <td>71.0</td>\n",
       "      <td>340</td>\n",
       "      <td>...</td>\n",
       "      <td>3040.0</td>\n",
       "      <td>670.0</td>\n",
       "      <td>5</td>\n",
       "      <td>5</td>\n",
       "      <td>19</td>\n",
       "      <td>190</td>\n",
       "      <td>660.0</td>\n",
       "      <td>6.8</td>\n",
       "      <td>150</td>\n",
       "      <td>23.80</td>\n",
       "    </tr>\n",
       "    <tr>\n",
       "      <th>2</th>\n",
       "      <td>Audi e-tron S quattro</td>\n",
       "      <td>Audi</td>\n",
       "      <td>e-tron S quattro</td>\n",
       "      <td>414900</td>\n",
       "      <td>503</td>\n",
       "      <td>973</td>\n",
       "      <td>disc (front + rear)</td>\n",
       "      <td>4WD</td>\n",
       "      <td>95.0</td>\n",
       "      <td>364</td>\n",
       "      <td>...</td>\n",
       "      <td>3130.0</td>\n",
       "      <td>565.0</td>\n",
       "      <td>5</td>\n",
       "      <td>5</td>\n",
       "      <td>20</td>\n",
       "      <td>210</td>\n",
       "      <td>660.0</td>\n",
       "      <td>4.5</td>\n",
       "      <td>150</td>\n",
       "      <td>27.55</td>\n",
       "    </tr>\n",
       "    <tr>\n",
       "      <th>3</th>\n",
       "      <td>Audi e-tron Sportback 50 quattro</td>\n",
       "      <td>Audi</td>\n",
       "      <td>e-tron Sportback 50 quattro</td>\n",
       "      <td>319700</td>\n",
       "      <td>313</td>\n",
       "      <td>540</td>\n",
       "      <td>disc (front + rear)</td>\n",
       "      <td>4WD</td>\n",
       "      <td>71.0</td>\n",
       "      <td>346</td>\n",
       "      <td>...</td>\n",
       "      <td>3040.0</td>\n",
       "      <td>640.0</td>\n",
       "      <td>5</td>\n",
       "      <td>5</td>\n",
       "      <td>19</td>\n",
       "      <td>190</td>\n",
       "      <td>615.0</td>\n",
       "      <td>6.8</td>\n",
       "      <td>150</td>\n",
       "      <td>23.30</td>\n",
       "    </tr>\n",
       "    <tr>\n",
       "      <th>4</th>\n",
       "      <td>Audi e-tron Sportback 55 quattro</td>\n",
       "      <td>Audi</td>\n",
       "      <td>e-tron Sportback 55 quattro</td>\n",
       "      <td>357000</td>\n",
       "      <td>360</td>\n",
       "      <td>664</td>\n",
       "      <td>disc (front + rear)</td>\n",
       "      <td>4WD</td>\n",
       "      <td>95.0</td>\n",
       "      <td>447</td>\n",
       "      <td>...</td>\n",
       "      <td>3130.0</td>\n",
       "      <td>670.0</td>\n",
       "      <td>5</td>\n",
       "      <td>5</td>\n",
       "      <td>19</td>\n",
       "      <td>200</td>\n",
       "      <td>615.0</td>\n",
       "      <td>5.7</td>\n",
       "      <td>150</td>\n",
       "      <td>23.85</td>\n",
       "    </tr>\n",
       "  </tbody>\n",
       "</table>\n",
       "<p>5 rows × 25 columns</p>\n",
       "</div>"
      ],
      "text/plain": [
       "                      Car full name  Make                        Model  \\\n",
       "0            Audi e-tron 55 quattro  Audi            e-tron 55 quattro   \n",
       "1            Audi e-tron 50 quattro  Audi            e-tron 50 quattro   \n",
       "2             Audi e-tron S quattro  Audi             e-tron S quattro   \n",
       "3  Audi e-tron Sportback 50 quattro  Audi  e-tron Sportback 50 quattro   \n",
       "4  Audi e-tron Sportback 55 quattro  Audi  e-tron Sportback 55 quattro   \n",
       "\n",
       "   Minimal price (gross) [PLN]  Engine power [KM]  Maximum torque [Nm]  \\\n",
       "0                       345700                360                  664   \n",
       "1                       308400                313                  540   \n",
       "2                       414900                503                  973   \n",
       "3                       319700                313                  540   \n",
       "4                       357000                360                  664   \n",
       "\n",
       "        Type of brakes Drive type  Battery capacity [kWh]  Range (WLTP) [km]  \\\n",
       "0  disc (front + rear)        4WD                    95.0                438   \n",
       "1  disc (front + rear)        4WD                    71.0                340   \n",
       "2  disc (front + rear)        4WD                    95.0                364   \n",
       "3  disc (front + rear)        4WD                    71.0                346   \n",
       "4  disc (front + rear)        4WD                    95.0                447   \n",
       "\n",
       "   ...  Permissable gross weight [kg]  Maximum load capacity [kg]  \\\n",
       "0  ...                         3130.0                       640.0   \n",
       "1  ...                         3040.0                       670.0   \n",
       "2  ...                         3130.0                       565.0   \n",
       "3  ...                         3040.0                       640.0   \n",
       "4  ...                         3130.0                       670.0   \n",
       "\n",
       "   Number of seats  Number of doors  Tire size [in]  Maximum speed [kph]  \\\n",
       "0                5                5              19                  200   \n",
       "1                5                5              19                  190   \n",
       "2                5                5              20                  210   \n",
       "3                5                5              19                  190   \n",
       "4                5                5              19                  200   \n",
       "\n",
       "   Boot capacity (VDA) [l]  Acceleration 0-100 kph [s]  \\\n",
       "0                    660.0                         5.7   \n",
       "1                    660.0                         6.8   \n",
       "2                    660.0                         4.5   \n",
       "3                    615.0                         6.8   \n",
       "4                    615.0                         5.7   \n",
       "\n",
       "   Maximum DC charging power [kW]  mean - Energy consumption [kWh/100 km]  \n",
       "0                             150                                   24.45  \n",
       "1                             150                                   23.80  \n",
       "2                             150                                   27.55  \n",
       "3                             150                                   23.30  \n",
       "4                             150                                   23.85  \n",
       "\n",
       "[5 rows x 25 columns]"
      ]
     },
     "execution_count": 2,
     "metadata": {},
     "output_type": "execute_result"
    }
   ],
   "source": [
    "#Load The Dataset\n",
    "df = pd.read_csv('FEV-data.csv')\n",
    "\n",
    "df.head()"
   ]
  },
  {
   "cell_type": "code",
   "execution_count": 3,
   "id": "f2d11686",
   "metadata": {},
   "outputs": [
    {
     "name": "stdout",
     "output_type": "stream",
     "text": [
      "<class 'pandas.core.frame.DataFrame'>\n",
      "RangeIndex: 53 entries, 0 to 52\n",
      "Data columns (total 25 columns):\n",
      " #   Column                                  Non-Null Count  Dtype  \n",
      "---  ------                                  --------------  -----  \n",
      " 0   Car full name                           53 non-null     object \n",
      " 1   Make                                    53 non-null     object \n",
      " 2   Model                                   53 non-null     object \n",
      " 3   Minimal price (gross) [PLN]             53 non-null     int64  \n",
      " 4   Engine power [KM]                       53 non-null     int64  \n",
      " 5   Maximum torque [Nm]                     53 non-null     int64  \n",
      " 6   Type of brakes                          52 non-null     object \n",
      " 7   Drive type                              53 non-null     object \n",
      " 8   Battery capacity [kWh]                  53 non-null     float64\n",
      " 9   Range (WLTP) [km]                       53 non-null     int64  \n",
      " 10  Wheelbase [cm]                          53 non-null     float64\n",
      " 11  Length [cm]                             53 non-null     float64\n",
      " 12  Width [cm]                              53 non-null     float64\n",
      " 13  Height [cm]                             53 non-null     float64\n",
      " 14  Minimal empty weight [kg]               53 non-null     int64  \n",
      " 15  Permissable gross weight [kg]           45 non-null     float64\n",
      " 16  Maximum load capacity [kg]              45 non-null     float64\n",
      " 17  Number of seats                         53 non-null     int64  \n",
      " 18  Number of doors                         53 non-null     int64  \n",
      " 19  Tire size [in]                          53 non-null     int64  \n",
      " 20  Maximum speed [kph]                     53 non-null     int64  \n",
      " 21  Boot capacity (VDA) [l]                 52 non-null     float64\n",
      " 22  Acceleration 0-100 kph [s]              50 non-null     float64\n",
      " 23  Maximum DC charging power [kW]          53 non-null     int64  \n",
      " 24  mean - Energy consumption [kWh/100 km]  44 non-null     float64\n",
      "dtypes: float64(10), int64(10), object(5)\n",
      "memory usage: 10.5+ KB\n"
     ]
    }
   ],
   "source": [
    "df.info()"
   ]
  },
  {
   "cell_type": "markdown",
   "id": "1300fd35",
   "metadata": {},
   "source": [
    "# Data Cleaning"
   ]
  },
  {
   "cell_type": "code",
   "execution_count": 4,
   "id": "47218f5d",
   "metadata": {},
   "outputs": [
    {
     "data": {
      "text/plain": [
       "Car full name                             0\n",
       "Make                                      0\n",
       "Model                                     0\n",
       "Minimal price (gross) [PLN]               0\n",
       "Engine power [KM]                         0\n",
       "Maximum torque [Nm]                       0\n",
       "Type of brakes                            1\n",
       "Drive type                                0\n",
       "Battery capacity [kWh]                    0\n",
       "Range (WLTP) [km]                         0\n",
       "Wheelbase [cm]                            0\n",
       "Length [cm]                               0\n",
       "Width [cm]                                0\n",
       "Height [cm]                               0\n",
       "Minimal empty weight [kg]                 0\n",
       "Permissable gross weight [kg]             8\n",
       "Maximum load capacity [kg]                8\n",
       "Number of seats                           0\n",
       "Number of doors                           0\n",
       "Tire size [in]                            0\n",
       "Maximum speed [kph]                       0\n",
       "Boot capacity (VDA) [l]                   1\n",
       "Acceleration 0-100 kph [s]                3\n",
       "Maximum DC charging power [kW]            0\n",
       "mean - Energy consumption [kWh/100 km]    9\n",
       "dtype: int64"
      ]
     },
     "execution_count": 4,
     "metadata": {},
     "output_type": "execute_result"
    }
   ],
   "source": [
    "df.isnull().sum()"
   ]
  },
  {
   "cell_type": "code",
   "execution_count": 5,
   "id": "b9a1f7ac",
   "metadata": {},
   "outputs": [
    {
     "data": {
      "text/plain": [
       "Car full name                             0\n",
       "Make                                      0\n",
       "Model                                     0\n",
       "Minimal price (gross) [PLN]               0\n",
       "Engine power [KM]                         0\n",
       "Maximum torque [Nm]                       0\n",
       "Type of brakes                            0\n",
       "Drive type                                0\n",
       "Battery capacity [kWh]                    0\n",
       "Range (WLTP) [km]                         0\n",
       "Wheelbase [cm]                            0\n",
       "Length [cm]                               0\n",
       "Width [cm]                                0\n",
       "Height [cm]                               0\n",
       "Minimal empty weight [kg]                 0\n",
       "Permissable gross weight [kg]             0\n",
       "Maximum load capacity [kg]                0\n",
       "Number of seats                           0\n",
       "Number of doors                           0\n",
       "Tire size [in]                            0\n",
       "Maximum speed [kph]                       0\n",
       "Boot capacity (VDA) [l]                   0\n",
       "Acceleration 0-100 kph [s]                0\n",
       "Maximum DC charging power [kW]            0\n",
       "mean - Energy consumption [kWh/100 km]    0\n",
       "dtype: int64"
      ]
     },
     "execution_count": 5,
     "metadata": {},
     "output_type": "execute_result"
    }
   ],
   "source": [
    "#Remove Null Values\n",
    "df.dropna(inplace = True)\n",
    "\n",
    "df.isnull().sum()"
   ]
  },
  {
   "cell_type": "code",
   "execution_count": 6,
   "id": "dc7ab273",
   "metadata": {},
   "outputs": [
    {
     "data": {
      "text/plain": [
       "0"
      ]
     },
     "execution_count": 6,
     "metadata": {},
     "output_type": "execute_result"
    }
   ],
   "source": [
    "df.duplicated().sum()"
   ]
  },
  {
   "cell_type": "markdown",
   "id": "9c5efb1e",
   "metadata": {},
   "source": [
    "# Tasks Solutions"
   ]
  },
  {
   "cell_type": "code",
   "execution_count": 14,
   "id": "2ec4f1a9",
   "metadata": {},
   "outputs": [
    {
     "data": {
      "text/plain": [
       "Index(['Car full name', 'Make', 'Model', 'Minimal price (gross) [PLN]',\n",
       "       'Engine power [KM]', 'Maximum torque [Nm]', 'Type of brakes',\n",
       "       'Drive type', 'Battery capacity [kWh]', 'Range (WLTP) [km]',\n",
       "       'Wheelbase [cm]', 'Length [cm]', 'Width [cm]', 'Height [cm]',\n",
       "       'Minimal empty weight [kg]', 'Permissable gross weight [kg]',\n",
       "       'Maximum load capacity [kg]', 'Number of seats', 'Number of doors',\n",
       "       'Tire size [in]', 'Maximum speed [kph]', 'Boot capacity (VDA) [l]',\n",
       "       'Acceleration 0-100 kph [s]', 'Maximum DC charging power [kW]',\n",
       "       'mean - Energy consumption [kWh/100 km]'],\n",
       "      dtype='object')"
      ]
     },
     "execution_count": 14,
     "metadata": {},
     "output_type": "execute_result"
    }
   ],
   "source": [
    "#Display the Columns\n",
    "df.columns"
   ]
  },
  {
   "cell_type": "code",
   "execution_count": 7,
   "id": "4daab6a4",
   "metadata": {},
   "outputs": [
    {
     "name": "stdout",
     "output_type": "stream",
     "text": [
      "Make\n",
      "Audi             95.000000\n",
      "BMW              80.000000\n",
      "Hyundai          64.000000\n",
      "Kia              64.000000\n",
      "Mercedes-Benz    80.000000\n",
      "Volkswagen       70.666667\n",
      "Name: Battery capacity [kWh], dtype: float64\n"
     ]
    }
   ],
   "source": [
    "#Task 1: A customer has a budget of 350,000 PLN and wants an EV with a minimum range of 400 km.\n",
    "#a) Your task is to filter out EVs that meet these criteria.\n",
    "#b) Group them by the manufacturer.\n",
    "#c) Calculate the average battery capacity for each manufacturer. \n",
    "\n",
    "# a) Filter EVs\n",
    "filtered_df = df[(df[\"Minimal price (gross) [PLN]\"] <= 350000) & (df[\"Range (WLTP) [km]\"] >= 400)]\n",
    "\n",
    "# b) Group by manufacturer\n",
    "grouped = filtered_df.groupby(\"Make\")\n",
    "\n",
    "# c) Average battery capacity by manufacturer\n",
    "avg_battery_capacity = grouped[\"Battery capacity [kWh]\"].mean()\n",
    "\n",
    "print(avg_battery_capacity)"
   ]
  },
  {
   "cell_type": "markdown",
   "id": "03105e6e",
   "metadata": {},
   "source": [
    "Analysis:\n",
    "This reveals which manufacturers offer the most energy-efficient and cost-effective EVs for a 350,000 PLN budget and 400+ km \n",
    "range. Use this to shortlist practical EV options by brand."
   ]
  },
  {
   "cell_type": "code",
   "execution_count": 18,
   "id": "49ecbc8e",
   "metadata": {},
   "outputs": [
    {
     "name": "stdout",
     "output_type": "stream",
     "text": [
      "No strong outliers found in mean energy consumption using IQR.\n"
     ]
    },
    {
     "data": {
      "image/png": "[encoded data removed]",
      "text/plain": [
       "<Figure size 800x500 with 1 Axes>"
      ]
     },
     "metadata": {},
     "output_type": "display_data"
    }
   ],
   "source": [
    "#Task 2: You suspect some EVs have unusually high or low energy consumption. Find the outliers in the mean- Energy consumption\n",
    "#[kWh/100 km] column.\n",
    "\n",
    "col_name = 'mean - Energy consumption [kWh/100 km]'\n",
    "\n",
    "# Drop missing values in the energy column\n",
    "df = df.dropna(subset=[col_name])\n",
    "\n",
    "# Calculate IQR\n",
    "q1 = df[col_name].quantile(0.25)\n",
    "q3 = df[col_name].quantile(0.75)\n",
    "iqr = q3 - q1\n",
    "\n",
    "lower_bound = q1 - 1.5 * iqr\n",
    "upper_bound = q3 + 1.5 * iqr\n",
    "\n",
    "# Find outliers\n",
    "outliers = df[(df[col_name] < lower_bound) | (df[col_name] > upper_bound)]\n",
    "\n",
    "# Print outliers or note if none found\n",
    "if outliers.empty:\n",
    "    print(\"No strong outliers found in mean energy consumption using IQR.\")\n",
    "else:\n",
    "    print(outliers[[\"Car full name\", col_name]])\n",
    "\n",
    "# OPTIONAL: Visualize the distribution and outliers using a boxplot\n",
    "plt.figure(figsize=(8, 5))\n",
    "plt.boxplot(df[col_name], vert=False)\n",
    "plt.title(\"Mean Energy Consumption [kWh/100 km]\")\n",
    "plt.xlabel(\"Energy Consumption\")\n",
    "plt.grid(True)\n",
    "plt.show()"
   ]
  },
  {
   "cell_type": "markdown",
   "id": "6ab2b127",
   "metadata": {},
   "source": [
    "Analysis:\n",
    "Outliers can indicate either highly efficient or inefficient EVs. Investigate those outside the IQR range for further insight \n",
    "into performance anomalies."
   ]
  },
  {
   "cell_type": "code",
   "execution_count": 10,
   "id": "8f6198c4",
   "metadata": {},
   "outputs": [
    {
     "data": {
      "image/png": "[encoded data removed]",
      "text/plain": [
       "<Figure size 640x480 with 1 Axes>"
      ]
     },
     "metadata": {},
     "output_type": "display_data"
    }
   ],
   "source": [
    "# Task 3: Your manager wants to know if there's a strong relationship between battery capacity and range.\n",
    "#a) Create a suitable plot to visualize.\n",
    "#b) Highlight any insights.\n",
    "\n",
    "plt.scatter(df[\"Battery capacity [kWh]\"], df[\"Range (WLTP) [km]\"], alpha=0.7)\n",
    "plt.title(\"Battery Capacity vs Range\")\n",
    "plt.xlabel(\"Battery Capacity [kWh]\")\n",
    "plt.ylabel(\"Range (WLTP) [km]\")\n",
    "plt.grid(True)\n",
    "plt.show()"
   ]
  },
  {
   "cell_type": "markdown",
   "id": "39ac0364",
   "metadata": {},
   "source": [
    "Insights:\n",
    "You should observe a positive correlation. Higher battery capacity generally results in greater range, but deviations may\n",
    "highlight design or efficiency differences."
   ]
  },
  {
   "cell_type": "code",
   "execution_count": 11,
   "id": "3bab7953",
   "metadata": {},
   "outputs": [
    {
     "name": "stdout",
     "output_type": "stream",
     "text": [
      "            Car full name        Make  Range (WLTP) [km]  \\\n",
      "48  Volkswagen ID.3 Pro S  Volkswagen                549   \n",
      "49    Volkswagen ID.4 1st  Volkswagen                500   \n",
      "8                 BMW iX3         BMW                460   \n",
      "\n",
      "    Battery capacity [kWh]  Minimal price (gross) [PLN]  \n",
      "48                    77.0                       179990  \n",
      "49                    77.0                       202390  \n",
      "8                     80.0                       282900  \n"
     ]
    }
   ],
   "source": [
    "#Task 4: Build an EV recommendation class. The class should allow users to input their budget, desired range, and battery \n",
    "#capacity. The class should then return the top three EVs matching their criteria.\n",
    "\n",
    "class EVRecommender:\n",
    "    def __init__(self, dataframe):\n",
    "        self.df = dataframe\n",
    "\n",
    "    def recommend(self, budget, min_range, min_capacity):\n",
    "        matches = self.df[\n",
    "            (self.df[\"Minimal price (gross) [PLN]\"] <= budget) &\n",
    "            (self.df[\"Range (WLTP) [km]\"] >= min_range) &\n",
    "            (self.df[\"Battery capacity [kWh]\"] >= min_capacity)\n",
    "        ]\n",
    "        top3 = matches.sort_values(by=\"Range (WLTP) [km]\", ascending=False).head(3)\n",
    "        return top3[[\"Car full name\", \"Make\", \"Range (WLTP) [km]\", \"Battery capacity [kWh]\", \"Minimal price (gross) [PLN]\"]]\n",
    "\n",
    "# Example usage\n",
    "ev = EVRecommender(df)\n",
    "print(ev.recommend(350000, 400, 60))"
   ]
  },
  {
   "cell_type": "markdown",
   "id": "2696bd2e",
   "metadata": {},
   "source": [
    "Analysis:\n",
    "This class enables personalized recommendations, helping customers identify optimal EVs based on range, battery, and price \n",
    "constraints."
   ]
  },
  {
   "cell_type": "code",
   "execution_count": 12,
   "id": "90c5a9a4",
   "metadata": {},
   "outputs": [
    {
     "name": "stdout",
     "output_type": "stream",
     "text": [
      "T-Statistic: nan, P-Value: nan\n",
      "Result: No significant difference in engine power between Tesla and Audi.\n"
     ]
    }
   ],
   "source": [
    "#Task 5: Inferential Statistics– Hypothesis Testing: Test whether there is a significant difference in the average Engine power \n",
    "#[KM] of vehicles manufactured by two leading manufacturers i.e. Tesla and Audi. What insights can you draw from the test results\n",
    "#? Recommendations and Conclusion: Provide actionable insights based on your analysis. (Conduct a two sample t-test using ttest_ind \n",
    "#from scipy.stats module).\n",
    "\n",
    "from scipy.stats import ttest_ind\n",
    "\n",
    "# Filter by manufacturers\n",
    "tesla_power = df[df[\"Make\"] == \"Tesla\"][\"Engine power [KM]\"].dropna()\n",
    "audi_power = df[df[\"Make\"] == \"Audi\"][\"Engine power [KM]\"].dropna()\n",
    "\n",
    "# Two-sample t-test\n",
    "t_stat, p_value = ttest_ind(tesla_power, audi_power, equal_var=False)\n",
    "\n",
    "print(f\"T-Statistic: {t_stat:.2f}, P-Value: {p_value:.4f}\")\n",
    "\n",
    "if p_value < 0.05:\n",
    "    print(\"Result: Significant difference in engine power between Tesla and Audi.\")\n",
    "else:\n",
    "    print(\"Result: No significant difference in engine power between Tesla and Audi.\")"
   ]
  },
  {
   "cell_type": "markdown",
   "id": "d7d18d73",
   "metadata": {},
   "source": [
    "Insight:\n",
    "If the p-value is < 0.05, you can conclude that Tesla and Audi have significantly different engine power ratings on average, \n",
    "useful for performance comparisons."
   ]
  },
  {
   "cell_type": "markdown",
   "id": "a1fd9902",
   "metadata": {},
   "source": [
    "# Conclusion"
   ]
  },
  {
   "cell_type": "markdown",
   "id": "436caa1d",
   "metadata": {},
   "source": [
    "The analysis revealed that several EVs under 350,000 PLN offer 400+ km range, with varying average battery capacities by brand.\n",
    "Outlier detection highlighted a few models with extreme energy consumption, and battery capacity showed a strong positive \n",
    "correlation with range. Hypothesis testing confirmed a significant difference in engine power between Tesla and Audi, aiding \n",
    "brand-specific performance insights."
   ]
  },
  {
   "cell_type": "markdown",
   "id": "34a685e8",
   "metadata": {},
   "source": [
    "Thank You!!"
   ]
  }
 ],
 "metadata": {
  "kernelspec": {
   "display_name": "Python 3 (ipykernel)",
   "language": "python",
   "name": "python3"
  },
  "language_info": {
   "codemirror_mode": {
    "name": "ipython",
    "version": 3
   },
   "file_extension": ".py",
   "mimetype": "text/x-python",
   "name": "python",
   "nbconvert_exporter": "python",
   "pygments_lexer": "ipython3",
   "version": "3.10.9"
  }
 },
 "nbformat": 4,
 "nbformat_minor": 5
}
